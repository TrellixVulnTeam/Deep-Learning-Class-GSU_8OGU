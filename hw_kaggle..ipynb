{
 "cells": [
  {
   "cell_type": "code",
   "execution_count": 1,
   "metadata": {},
   "outputs": [
    {
     "name": "stderr",
     "output_type": "stream",
     "text": [
      "2022-03-28 21:26:51.799919: W tensorflow/stream_executor/platform/default/dso_loader.cc:64] Could not load dynamic library 'libcudart.so.11.0'; dlerror: libcudart.so.11.0: cannot open shared object file: No such file or directory\n",
      "2022-03-28 21:26:51.799940: I tensorflow/stream_executor/cuda/cudart_stub.cc:29] Ignore above cudart dlerror if you do not have a GPU set up on your machine.\n"
     ]
    }
   ],
   "source": [
    "import numpy as np\n",
    "from keras import layers\n",
    "from keras.layers import Input, Dense, Activation,BatchNormalization, Flatten, Conv2D, MaxPooling2D\n",
    "from keras.models import Model\n",
    "from keras.preprocessing import image\n",
    "from keras import losses\n",
    "from keras.preprocessing.image import ImageDataGenerator\n",
    "import keras.backend as K\n",
    "K.set_image_data_format('channels_last')\n",
    "import matplotlib.pyplot as plt\n",
    "from matplotlib.pyplot import imshow\n",
    "import os\n",
    "from sklearn.metrics import log_loss\n",
    "from glob import glob\n",
    "import csv  "
   ]
  },
  {
   "cell_type": "code",
   "execution_count": 4,
   "metadata": {},
   "outputs": [
    {
     "name": "stdout",
     "output_type": "stream",
     "text": [
      "Found 58388 images belonging to 400 classes.\n"
     ]
    },
    {
     "data": {
      "text/plain": [
       "''"
      ]
     },
     "execution_count": 4,
     "metadata": {},
     "output_type": "execute_result"
    }
   ],
   "source": [
    "\n",
    "path = '/home/dynaneurotech/Documents/kaggle/input/homework4/birds_400/train/'\n",
    "train_datagen = ImageDataGenerator(rescale=1. / 224)\n",
    "train = train_datagen.flow_from_directory(path, target_size=(224,224), class_mode='categorical')\n",
    "\n",
    "classes = [x[0].split('/')[-1] for x in os.walk(path)]\n",
    "classes.pop(0)"
   ]
  },
  {
   "cell_type": "code",
   "execution_count": 7,
   "metadata": {},
   "outputs": [],
   "source": [
    "# Using alexnet\n",
    "def AlexNet(input_shape):\n",
    "    \n",
    "    input = Input(input_shape)\n",
    "    \n",
    "    output = Conv2D(96,(11,11),strides = 4,name=\"conv0\")(input)\n",
    "    output = BatchNormalization(axis = 3 , name = \"bn0\")(output)\n",
    "    output = Activation('relu')(output)\n",
    "    \n",
    "    output = MaxPooling2D((3,3),strides = 2,name = 'max0')(output)\n",
    "    \n",
    "    output = Conv2D(256,(5,5),padding = 'same' , name = 'conv1')(output)\n",
    "    output = BatchNormalization(axis = 3 ,name='bn1')(output)\n",
    "    output = Activation('relu')(output)\n",
    "    \n",
    "    output = MaxPooling2D((3,3),strides = 2,name = 'max1')(output)\n",
    "    \n",
    "    output = Conv2D(384, (3,3) , padding = 'same' , name='conv2')(output)\n",
    "    output = BatchNormalization(axis = 3, name = 'bn2')(output)\n",
    "    output = Activation('relu')(output)\n",
    "    \n",
    "    output = Conv2D(384, (3,3) , padding = 'same' , name='conv3')(output)\n",
    "    output = BatchNormalization(axis = 3, name = 'bn3')(output)\n",
    "    output = Activation('relu')(output)\n",
    "    \n",
    "    output = Conv2D(256, (3,3) , padding = 'same' , name='conv4')(output)\n",
    "    output = BatchNormalization(axis = 3, name = 'bn4')(output)\n",
    "    output = Activation('relu')(output)\n",
    "    \n",
    "    output = MaxPooling2D((3,3),strides = 2,name = 'max2')(output)\n",
    "    \n",
    "    output = Flatten()(output)\n",
    "    \n",
    "    output = Dense(4096, activation = 'relu', name = \"fc0\")(output)\n",
    "    \n",
    "    output = Dense(4096, activation = 'relu', name = 'fc1')(output) \n",
    "    \n",
    "    output = Dense(400,activation='softmax',name = 'fc2')(output)\n",
    "    model = Model(inputs = input, outputs = output, name='AlexNet')\n",
    "    \n",
    "    return model"
   ]
  },
  {
   "cell_type": "code",
   "execution_count": 9,
   "metadata": {},
   "outputs": [],
   "source": [
    "model_alex = AlexNet(train[0][0].shape[1:])"
   ]
  },
  {
   "cell_type": "code",
   "execution_count": 10,
   "metadata": {},
   "outputs": [
    {
     "name": "stdout",
     "output_type": "stream",
     "text": [
      "Model: \"AlexNet\"\n",
      "_________________________________________________________________\n",
      " Layer (type)                Output Shape              Param #   \n",
      "=================================================================\n",
      " input_3 (InputLayer)        [(None, 224, 224, 3)]     0         \n",
      "                                                                 \n",
      " conv0 (Conv2D)              (None, 54, 54, 96)        34944     \n",
      "                                                                 \n",
      " bn0 (BatchNormalization)    (None, 54, 54, 96)        384       \n",
      "                                                                 \n",
      " activation_10 (Activation)  (None, 54, 54, 96)        0         \n",
      "                                                                 \n",
      " max0 (MaxPooling2D)         (None, 26, 26, 96)        0         \n",
      "                                                                 \n",
      " conv1 (Conv2D)              (None, 26, 26, 256)       614656    \n",
      "                                                                 \n",
      " bn1 (BatchNormalization)    (None, 26, 26, 256)       1024      \n",
      "                                                                 \n",
      " activation_11 (Activation)  (None, 26, 26, 256)       0         \n",
      "                                                                 \n",
      " max1 (MaxPooling2D)         (None, 12, 12, 256)       0         \n",
      "                                                                 \n",
      " conv2 (Conv2D)              (None, 12, 12, 384)       885120    \n",
      "                                                                 \n",
      " bn2 (BatchNormalization)    (None, 12, 12, 384)       1536      \n",
      "                                                                 \n",
      " activation_12 (Activation)  (None, 12, 12, 384)       0         \n",
      "                                                                 \n",
      " conv3 (Conv2D)              (None, 12, 12, 384)       1327488   \n",
      "                                                                 \n",
      " bn3 (BatchNormalization)    (None, 12, 12, 384)       1536      \n",
      "                                                                 \n",
      " activation_13 (Activation)  (None, 12, 12, 384)       0         \n",
      "                                                                 \n",
      " conv4 (Conv2D)              (None, 12, 12, 256)       884992    \n",
      "                                                                 \n",
      " bn4 (BatchNormalization)    (None, 12, 12, 256)       1024      \n",
      "                                                                 \n",
      " activation_14 (Activation)  (None, 12, 12, 256)       0         \n",
      "                                                                 \n",
      " max2 (MaxPooling2D)         (None, 5, 5, 256)         0         \n",
      "                                                                 \n",
      " flatten_2 (Flatten)         (None, 6400)              0         \n",
      "                                                                 \n",
      " fc0 (Dense)                 (None, 4096)              26218496  \n",
      "                                                                 \n",
      " fc1 (Dense)                 (None, 4096)              16781312  \n",
      "                                                                 \n",
      " fc2 (Dense)                 (None, 400)               1638800   \n",
      "                                                                 \n",
      "=================================================================\n",
      "Total params: 48,391,312\n",
      "Trainable params: 48,388,560\n",
      "Non-trainable params: 2,752\n",
      "_________________________________________________________________\n"
     ]
    }
   ],
   "source": [
    "# model summary because keras has that\n",
    "model_alex.summary()"
   ]
  },
  {
   "cell_type": "code",
   "execution_count": 11,
   "metadata": {},
   "outputs": [],
   "source": [
    "model_alex.compile(optimizer = 'adam' , loss = 'categorical_crossentropy' , metrics=['accuracy'])"
   ]
  },
  {
   "cell_type": "code",
   "execution_count": 14,
   "metadata": {},
   "outputs": [
    {
     "name": "stderr",
     "output_type": "stream",
     "text": [
      "/tmp/ipykernel_196443/3169902923.py:1: UserWarning: `Model.fit_generator` is deprecated and will be removed in a future version. Please use `Model.fit`, which supports generators.\n",
      "  model_alex.fit_generator(train,epochs=3)\n"
     ]
    },
    {
     "name": "stdout",
     "output_type": "stream",
     "text": [
      "Epoch 1/3\n",
      " 612/1825 [=========>....................] - ETA: 20:51 - loss: 5.7758 - accuracy: 0.0073"
     ]
    }
   ],
   "source": [
    "model_alex.fit_generator(train,epochs=3)"
   ]
  },
  {
   "cell_type": "code",
   "execution_count": null,
   "metadata": {},
   "outputs": [],
   "source": [
    "path_test = '/home/dynaneurotech/Documents/kaggle/input/homework4/birds_400/test'\n",
    "test_datagen = ImageDataGenerator(rescale=1. / 224)\n",
    "test = test_datagen.flow_from_directory(path_test, target_size=(224,224), class_mode='categorical')"
   ]
  },
  {
   "cell_type": "code",
   "execution_count": null,
   "metadata": {},
   "outputs": [],
   "source": [
    "preds = model_alex.evaluate_generator(test)\n",
    "print (\"Loss = \" + str(preds[0]))\n",
    "print (\"Test Accuracy = \" + str(preds[1]*100))"
   ]
  },
  {
   "cell_type": "code",
   "execution_count": null,
   "metadata": {},
   "outputs": [],
   "source": [
    "#validation\n",
    "path_test = '/home/dynaneurotech/Documents/kaggle/input/homework4/birds_400/valid'\n",
    "validation_datagen = ImageDataGenerator(rescale=1. / 224)\n",
    "validation = validation_datagen.flow_from_directory(path_test, target_size=(224,224), batch_size = 1,class_mode='categorical')"
   ]
  },
  {
   "cell_type": "code",
   "execution_count": null,
   "metadata": {},
   "outputs": [],
   "source": [
    "preds = model_alex.evaluate_generator(validation)\n",
    "print (\"Loss = \" + str(preds[0]))\n",
    "print (\"Test Accuracy = \" + str(preds[1]*100))"
   ]
  },
  {
   "cell_type": "code",
   "execution_count": null,
   "metadata": {},
   "outputs": [],
   "source": [
    "def prepare(img_path):\n",
    "    img = image.load_img(img_path, target_size=(224,224))\n",
    "    x = image.img_to_array(img)\n",
    "    x = x/224\n",
    "    return np.expand_dims(x, axis=0)"
   ]
  },
  {
   "cell_type": "code",
   "execution_count": null,
   "metadata": {},
   "outputs": [],
   "source": [
    "cce = losses.CategoricalCrossentropy()"
   ]
  },
  {
   "cell_type": "code",
   "execution_count": null,
   "metadata": {},
   "outputs": [],
   "source": [
    "template = [0]*400\n",
    "log_loss = {}\n",
    "test_images = glob(\"/kaggle/input/csc4851-homework4/birds_400/test/\" + \"*/*.jpg\")\n",
    "\n",
    "for path in test_images:\n",
    "    result = model_alex.predict([prepare(path)])\n",
    "    actual_class = path.split('/')[-2]\n",
    "    actual_class = \"BLACK & YELLOW  BROADBILL\" if actual_class == \"BLACK & YELLOW BROADBILL\" else actual_class\n",
    "    actual_index = classes.index(actual_class)\n",
    "    template[actual_index] = 1\n",
    "    log_loss_current = cce(template, result[0]).numpy()\n",
    "#     print(log_loss_current)\n",
    "    if actual_index in log_loss:\n",
    "        log_loss[actual_index] += (log_loss_current)/100\n",
    "    else:\n",
    "        log_loss[actual_index] = (log_loss_current)/100\n",
    "    template[actual_index] = 0"
   ]
  },
  {
   "cell_type": "code",
   "execution_count": null,
   "metadata": {},
   "outputs": [],
   "source": [
    "print('Generating submission.csv file...')\n",
    "ids = list(log_loss.keys())\n",
    "values = list(log_loss.values())\n",
    "\n",
    "f = open('submission.csv', 'w')\n",
    "writer = csv.writer(f)\n",
    "writer.writerow(['id','birds'])\n",
    "for index in range(len(ids)):\n",
    "    writer.writerow([ids[index],values[index]])\n"
   ]
  },
  {
   "cell_type": "code",
   "execution_count": null,
   "metadata": {},
   "outputs": [],
   "source": []
  },
  {
   "cell_type": "code",
   "execution_count": null,
   "metadata": {},
   "outputs": [],
   "source": []
  },
  {
   "cell_type": "code",
   "execution_count": null,
   "metadata": {},
   "outputs": [],
   "source": []
  }
 ],
 "metadata": {
  "interpreter": {
   "hash": "916dbcbb3f70747c44a77c7bcd40155683ae19c65e1c03b4aa3499c5328201f1"
  },
  "kernelspec": {
   "display_name": "Python 3.9.7 64-bit",
   "language": "python",
   "name": "python3"
  },
  "language_info": {
   "codemirror_mode": {
    "name": "ipython",
    "version": 3
   },
   "file_extension": ".py",
   "mimetype": "text/x-python",
   "name": "python",
   "nbconvert_exporter": "python",
   "pygments_lexer": "ipython3",
   "version": "3.9.7"
  },
  "orig_nbformat": 4
 },
 "nbformat": 4,
 "nbformat_minor": 2
}
